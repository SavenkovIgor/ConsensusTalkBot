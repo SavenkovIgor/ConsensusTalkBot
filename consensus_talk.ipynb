{
 "cells": [
  {
   "cell_type": "code",
   "execution_count": 1,
   "id": "413b2b8e",
   "metadata": {},
   "outputs": [],
   "source": [
    "import openai\n",
    "import os\n",
    "\n",
    "from dotenv import load_dotenv, find_dotenv\n",
    "_ = load_dotenv(find_dotenv())\n",
    "\n",
    "openai.api_key = os.getenv('OPENAI_API_KEY')\n",
    "\n",
    "# print(openai.Engine.list())\n",
    "\n",
    "def print_lines(text, max_line_length=120):\n",
    "    lines = []\n",
    "    line = \"\"\n",
    "    for word in text.split():\n",
    "        if len(line + word) > max_line_length:\n",
    "            lines.append(line)\n",
    "            line = \"\"\n",
    "        line += word + \" \"\n",
    "    lines.append(line)\n",
    "\n",
    "    for line in lines:\n",
    "        print(line)\n",
    "\n",
    "class ChatEngine:\n",
    "    model = \"\"\n",
    "    temp = 0\n",
    "\n",
    "    def __init__(self, model=\"gpt-3.5-turbo\", temp=0):\n",
    "        self.model = model\n",
    "        self.temp = temp\n",
    "\n",
    "class Chat:\n",
    "    messages: list = []\n",
    "    engine: ChatEngine\n",
    "\n",
    "    def __init__(self, engine, system_message, user_messages = []):\n",
    "        self.engine = engine\n",
    "        self.messages.append({\"role\": \"system\", \"content\": system_message})\n",
    "        self.messages.extend([{\"role\": \"user\", \"content\": message} for message in user_messages])\n",
    "\n",
    "    def get_answer(self, user_message):\n",
    "        self.messages.append({\"role\": \"user\", \"content\": user_message})\n",
    "        response = openai.ChatCompletion.create(\n",
    "            model=self.engine.model,\n",
    "            messages=self.messages,\n",
    "            temperature=self.engine.temp,\n",
    "        )\n",
    "        answer = response.choices[0].message[\"content\"]\n",
    "        self.messages.append({\"role\": \"assistant\", \"content\": answer})\n",
    "        return answer\n"
   ]
  },
  {
   "cell_type": "code",
   "execution_count": null,
   "id": "d416fa01",
   "metadata": {},
   "outputs": [],
   "source": [
    "politeness_prompt = \"\"\"You are a tone analyzer robot. Given the user message, \\\n",
    "you should rate its politeness on a scale of 1 to 10, \\\n",
    "where 1 is very rude and 10 is very polite. \\ \n",
    "- You should answer with one number and nothing else\"\"\"\n",
    "\n",
    "def politeness_score(prompt) -> int:\n",
    "    engine = ChatEngine()\n",
    "    chat = Chat(engine, politeness_prompt)\n",
    "    answer = chat.get_answer(prompt)\n",
    "    if not answer.isdigit():\n",
    "        answer = 5\n",
    "    return int(answer)\n",
    "\n",
    "print(politeness_score(\"Hey!\"))"
   ]
  }
 ],
 "metadata": {
  "kernelspec": {
   "display_name": "Python 3 (ipykernel)",
   "language": "python",
   "name": "python3"
  },
  "language_info": {
   "codemirror_mode": {
    "name": "ipython",
    "version": 3
   },
   "file_extension": ".py",
   "mimetype": "text/x-python",
   "name": "python",
   "nbconvert_exporter": "python",
   "pygments_lexer": "ipython3",
   "version": "3.11.2"
  }
 },
 "nbformat": 4,
 "nbformat_minor": 5
}
